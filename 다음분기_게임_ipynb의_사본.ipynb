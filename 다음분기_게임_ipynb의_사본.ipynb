{
  "nbformat": 4,
  "nbformat_minor": 0,
  "metadata": {
    "colab": {
      "name": "다음분기 게임.ipynb의 사본",
      "private_outputs": true,
      "provenance": [],
      "collapsed_sections": [],
      "authorship_tag": "ABX9TyPavhzxCvheazi8fNWuIX6c",
      "include_colab_link": true
    },
    "kernelspec": {
      "name": "python3",
      "display_name": "Python 3"
    },
    "language_info": {
      "name": "python"
    },
    "accelerator": "GPU"
  },
  "cells": [
    {
      "cell_type": "markdown",
      "metadata": {
        "id": "view-in-github",
        "colab_type": "text"
      },
      "source": [
        "<a href=\"https://colab.research.google.com/github/hurgj123kr/Project/blob/main/%EB%8B%A4%EC%9D%8C%EB%B6%84%EA%B8%B0_%EA%B2%8C%EC%9E%84_ipynb%EC%9D%98_%EC%82%AC%EB%B3%B8.ipynb\" target=\"_parent\"><img src=\"https://colab.research.google.com/assets/colab-badge.svg\" alt=\"Open In Colab\"/></a>"
      ]
    },
    {
      "cell_type": "markdown",
      "metadata": {
        "id": "WDY9fbihdoF2"
      },
      "source": [
        "#  다음분기의 게임 데이터셋을 불러옵니다.\n",
        "### 1)결측치가 있다면 제거해주고\n",
        "### 2)연도별로 정렬해줍니다.\n",
        "### 3)각 지역별 출고값열들 특정 문자 제거후 타입변경\n",
        "#### 4)이상한 연도들 원래 연도값으로 변경해주기"
      ]
    },
    {
      "cell_type": "code",
      "metadata": {
        "id": "gQwvi8cEoDJV"
      },
      "source": [
        "import pandas as pd\n",
        "import numpy as np\n",
        "#!sudo apt-get install -y fonts-nanum\n",
        "#!sudo fc-cache -fv\n",
        "#!rm ~/.cache/matplotlib -rf\n",
        "import matplotlib.pyplot as plt\n",
        "plt.rc('font', family='NanumBarunGothic')\n",
        "plt.rc('axes', unicode_minus=False)\n",
        "url ='https://ds-lecture-data.s3.ap-northeast-2.amazonaws.com/datasets/vgames2.csv'\n",
        "df = pd.read_csv(url,thousands=',')\n",
        "#데이터 확인\n",
        "df.columns\n",
        "df.shape\n",
        "#데이터에 이상이없는지 확인합니다\n",
        "df.isnull().sum()\n",
        "##데이터에 문제가있으므로 제거해줍니다.\n",
        "df.dropna(inplace=True)\n",
        "df.isnull().sum()\n",
        "#이제 연도별로 정렬해줍니다.\n",
        "df.sort_values(by=['Year'], axis=0,inplace=True)\n",
        "df.drop(['Unnamed: 0'], axis=1,inplace=True)\n",
        "df = df.replace({'K':'', 'M':''}, regex=True)\n",
        "df = df.astype({'NA_Sales':'float','EU_Sales':'float','JP_Sales':'float',\n",
        "                          'Other_Sales':'float'})\n",
        "df.dtypes\n",
        "df"
      ],
      "execution_count": null,
      "outputs": []
    },
    {
      "cell_type": "code",
      "metadata": {
        "id": "s8dW8U-Tj5kf"
      },
      "source": [
        "#연도 이상치 고치기\n",
        "year = df['Year'].unique()\n",
        "temp = []\n",
        "for i in year:\n",
        "    if i <= 1970:\n",
        "        print(i)\n",
        "        temp.append(i)\n",
        "df.loc[(df['Year'].values <= 70),'Year' ] += 2000\n",
        "df.loc[((df['Year'].values >=70) & (df['Year'].values <= 100)),'Year'] += 1900\n",
        "df['Year'].value_counts()\n",
        "df"
      ],
      "execution_count": null,
      "outputs": []
    },
    {
      "cell_type": "markdown",
      "metadata": {
        "id": "eTFSWPpXeROm"
      },
      "source": [
        "# 이제 불러온 데이터를 통해서 지역에따라 장르의 차이를 나타낸 표그리기\n"
      ]
    },
    {
      "cell_type": "code",
      "metadata": {
        "id": "ag4dl_WDejjj"
      },
      "source": [
        "import seaborn as sns\n",
        "import matplotlib.pyplot as plt\n",
        "#각 장르별 나라들의 출고값을 합산한것입니다.\n",
        "game_genre = df[['Genre','NA_Sales', 'EU_Sales', 'JP_Sales', 'Other_Sales']]\n",
        "game_genre.columns =['장르','북미지역 출고량','유렵지역 출고량','일본지역 출고량','다른지역 출고량']\n",
        "genre_group = game_genre.groupby(['장르']).sum()\n",
        "game_df = genre_group.reset_index()\n",
        "#확인\n",
        "game_df\n",
        "game_graph = pd.melt(game_df, id_vars=['장르'], value_vars=game_df.columns[1:],\n",
        "                      var_name='판매지역', value_name='출고량')\n",
        "game_graph.head()\n",
        "plt.figure(figsize=(14, 13))\n",
        "sns.barplot(data=game_graph, x='장르', y='출고량', hue='판매지역')\n",
        "plt.title('지역별 장르 선호도', loc='center', fontsize=20)\n",
        "plt.legend(fontsize=15)\n",
        "plt.show()"
      ],
      "execution_count": null,
      "outputs": []
    },
    {
      "cell_type": "markdown",
      "metadata": {
        "id": "X5DiRIwrgQ_j"
      },
      "source": [
        "### 각 지역별 출고량이 높은 5가지 장르 그래프\n",
        "## 그래프 결과 북미지역은 액션게임이 유렵지역또한 액션게임 일본은 롤플레잉게임이 다른지역들은 액션게임이\n",
        "#### 게임시장은 액션게임이 유행하는듯하다."
      ]
    },
    {
      "cell_type": "code",
      "metadata": {
        "id": "Fx7tLeR4iHiB"
      },
      "source": [
        "# 국가별 판매량 TOP5\n",
        "def top5_genre(df, sales_col):\n",
        "    new_df = game_df.loc[:, ['장르', sales_col]].sort_values(by=sales_col, ascending=False).reset_index(drop=True).head(5)\n",
        "    new_df.columns = ['장르', '출고량']\n",
        "    return new_df\n",
        "# Top5 데이터 저장\n",
        "na_genre_top5 = top5_genre(game_df, '북미지역 출고량')\n",
        "eu_genre_top5 = top5_genre(game_df, '유렵지역 출고량')\n",
        "jp_genre_top5 = top5_genre(game_df, '일본지역 출고량')\n",
        "other_genre_top5 = top5_genre(game_df, '다른지역 출고량')\n",
        "#데이터 리스트에 담기\n",
        "data_list = [na_genre_top5, eu_genre_top5, jp_genre_top5, other_genre_top5]\n",
        "columns_list = game_df.columns[1:]\n",
        "#그래프 그리기\n",
        "fig, axs = plt.subplots(figsize=(26, 10), nrows=1, ncols=4)\n",
        "for col, i, data in zip(columns_list, range(len(columns_list)), data_list):\n",
        "    axs[i].set_title(col + ' ' + 'TOP5', fontsize=24)\n",
        "    sns.barplot(x='장르', y='출고량', data=data, ax=axs[i])\n",
        "    axs[i].tick_params(axis='both',labelsize=16)\n",
        "    axs[i].set_xlabel('장르', fontsize=16)\n",
        "    axs[i].set_ylabel('출고량', fontsize=16)\n",
        "plt.show()\n",
        "import matplotlib.pyplot as plt"
      ],
      "execution_count": null,
      "outputs": []
    },
    {
      "cell_type": "markdown",
      "metadata": {
        "id": "p9GnQkymf2rw"
      },
      "source": [
        "## 출고량에 따른 연도별 트랜드구하기"
      ]
    },
    {
      "cell_type": "markdown",
      "metadata": {
        "id": "agQc9p-DFt0V"
      },
      "source": [
        "### 그래프에 따르면 연도별로 Action게임이 제일 트랜드했던것같다."
      ]
    },
    {
      "cell_type": "code",
      "metadata": {
        "id": "u2fKl3MtcA_P"
      },
      "source": [
        "#각 연도에 나온 장르들의 게임 갯수\n",
        "year_genre = df.groupby(['Year','Genre']).size().reset_index(name='number')\n",
        "year_genre\n",
        "#각 연도에 나온 장르별게임들의 제일 높은 갯수\n",
        "year_max = year_genre.groupby(['Year'])['number'].transform(max) == year_genre['number']\n",
        "#확인\n",
        "year_max\n",
        "#year_max 인덱스를 year_genre 인덱스로 바꿔준것.\n",
        "year_max_genre = year_genre[year_max].reset_index(drop=True)\n",
        "year_max_genre\n",
        "#연도와 number안에있는 중복값을 없애줘서 내가 알고싶은 제일높은 갯수 마지막만 나오게끔\n",
        "year_max_genre = year_max_genre.drop_duplicates(subset=['Year','number'], keep='last').reset_index(drop=True)\n",
        "year_max_genre.head()\n",
        "#column명 한글로바꾸기\n",
        "year_max_genre.columns = ['년도', '장르', '출고량']\n",
        "year_max_genre\n",
        "#전지역의 출고량을 합쳐서 분석을 좀더 정확하게 하기\n",
        "global_sales = []\n",
        "for i in df.index:\n",
        "    df_sales = df.loc[i, 'NA_Sales' : 'Other_Sales'].sum()\n",
        "    global_sales.append(df_sales)\n",
        "df['Global_Sales'] = global_sales\n",
        "df.head(10)\n",
        "#연도별 많은 출고량을 달성한 데이터프레임\n",
        "year_max_sales = df.groupby(['Year', 'Genre'])['Global_Sales'].sum().reset_index()\n",
        "con = year_max_sales['Global_Sales'] == year_max_sales.groupby(['Year'])['Global_Sales'].transform(max)\n",
        "year_max_sales = year_max_sales[con]\n",
        "year_max_sales.columns = ['연도', '장르', '출고량']\n",
        "# 장르 데이터 저장\n",
        "genre = year_max_sales['장르'].values\n",
        "# 그래프 그리기\n",
        "plt.figure(figsize=(28,10))\n",
        "ax = sns.barplot(x='년도', y='출고량', data=year_max_genre)\n",
        "count = 0\n",
        "for value in year_max_genre['출고량']:\n",
        "    ax.text(x= count, y= value + 5, s=str(genre[count] + '---' + ' ' + str(value)),\n",
        "            color='blue', size=20, rotation=90, ha='center')\n",
        "    count = count + 1\n",
        "plt.xticks(fontsize=12)\n",
        "plt.yticks(fontsize=18)    \n",
        "plt.xlabel('연도', fontsize=20)\n",
        "plt.ylabel('출고량', fontsize=20)\n",
        "ax.set_title('연도별 최고 출고량을 기록한 장르', fontsize=25, y=1.0, loc='center')\n",
        "plt.show()"
      ],
      "execution_count": null,
      "outputs": []
    },
    {
      "cell_type": "markdown",
      "metadata": {
        "id": "ygpfOZf1MM4Q"
      },
      "source": [
        "#출고량이 높은 게임에 대한 분석\n",
        "### 분석결과 1998년 닌텐도64기기 이면서 액션게임이 일등이다.\n",
        "### 다음 2위인 슈퍼마리오브로스3인 플랫폼게임이다.\n",
        "### 파이널판타지9 가 3위를 차지했다."
      ]
    },
    {
      "cell_type": "code",
      "metadata": {
        "id": "ZKHQNdrzjZGq"
      },
      "source": [
        "#게임명과 전지역의 출고량 에따른 분석\n",
        "top5 = df.loc[df.Global_Sales.sort_values(ascending=False).index].reset_index(drop=True).head(5)\n",
        "rank = [str(x)+' 위' for x in range(1, 6)]\n",
        "top5['rank'] = rank\n",
        "top5\n",
        "#그래프 그리기\n",
        "plt.figure(figsize=(32,10))\n",
        "a = sns.barplot(x='rank', y='Global_Sales', data=top5)\n",
        "i = 0\n",
        "for name, year, val, platform, genre in zip(top5['Name'],top5['Year'], top5['Global_Sales'], \n",
        "                                                top5['Platform'],top5['Genre']):\n",
        "    a.text(x=i, y=val-600, s=(name) , color='black', ha='center', fontsize=15)\n",
        "    a.text(x=i, y=val-400, s=(str(year) + '년' + '\\n' + ' 장르: ' + genre + '\\n' + ' 플랫폼: ' + platform), color='black', ha='center', fontsize=15)\n",
        "    i+=1\n",
        "a.set_title('출고량 역대 TOP5 게임', fontsize=25)\n",
        "plt.xticks(fontsize=18)\n",
        "plt.yticks(fontsize=18)\n",
        "plt.xlabel('게임명', fontsize=20)\n",
        "plt.ylabel('출고량', fontsize=20)\n",
        "plt.show()"
      ],
      "execution_count": null,
      "outputs": []
    },
    {
      "cell_type": "markdown",
      "metadata": {
        "id": "_lbvEI90xlGh"
      },
      "source": [
        "# 출고량이 낮은 게임의 장르\n",
        "\n",
        "\n",
        "*   북미쪽은 퍼즐,어드벤쳐,전략.격투,롪를레잉 게임이 인기가 없다.\n",
        "*   유럽쪽은 퍼즐,전략,어드벤쳐,롤플레잉,레이싱순으로 인기가없는 장르다.\n",
        "\n",
        "*   일본쪽은 퍼즐,슈팅,어드벤쳐,전략,격투장르가 인기가없다.\n",
        "*   다른지역은 퍼즐,어드벤쳐,시뮬레이션,격투,isc라는 장르가 인기가없다\n",
        "\n",
        "*   이결과로 보면 알수있듯이 전세계적으로 퍼즐 어드벤쳐 게임은 인기가 없다. 이 두개의 장르로 만들면 안된다.\n",
        "\n",
        "\n",
        "\n",
        "\n",
        "\n",
        "\n",
        "\n",
        "\n",
        "\n",
        "\n"
      ]
    },
    {
      "cell_type": "code",
      "metadata": {
        "id": "nao35zlzvadR"
      },
      "source": [
        "# 국가별 판매량 TOP5\n",
        "def worst5_genre(df, sales_col):\n",
        "    new_df = game_df.loc[:, ['장르', sales_col]].sort_values(by=sales_col, ascending=True).reset_index(drop=True).head(5)\n",
        "    new_df.columns = ['장르', '출고량']\n",
        "    return new_df\n",
        "# Top5 데이터 저장\n",
        "na_genre_worst5 = worst5_genre(game_df, '북미지역 출고량')\n",
        "eu_genre_worst5 = worst5_genre(game_df, '유렵지역 출고량')\n",
        "jp_genre_worst5 = worst5_genre(game_df, '일본지역 출고량')\n",
        "other_genre_worst5 = worst5_genre(game_df, '다른지역 출고량')\n",
        "#데이터 리스트에 담기\n",
        "data_list = [na_genre_warst5, eu_genre_warst5, jp_genre_warst5, other_genre_warst5]\n",
        "columns_list = game_df.columns[1:]\n",
        "#그래프 그리기\n",
        "fig, axs = plt.subplots(figsize=(35, 10), nrows=1, ncols=4)\n",
        "for col, i, data in zip(columns_list, range(len(columns_list)), data_list):\n",
        "    axs[i].set_title(col + ' ' + 'worst5', fontsize=24)\n",
        "    sns.barplot(x='장르', y='출고량', data=data, ax=axs[i])\n",
        "    axs[i].tick_params(axis='both',labelsize=16)\n",
        "    axs[i].set_xlabel('장르', fontsize=16)\n",
        "    axs[i].set_ylabel('출고량', fontsize=16)\n",
        "plt.show()\n",
        "import matplotlib.pyplot as plt"
      ],
      "execution_count": null,
      "outputs": []
    },
    {
      "cell_type": "markdown",
      "metadata": {
        "id": "ySbARnqGy6FK"
      },
      "source": [
        "# 무슨 플랫폼이 인기가 많은지 알아보자. \n",
        "\n",
        "### 각 지역별로 판매된는 플랫폼을 보았다. 유럽지역은 ps3가압도적으로 많다. 북미지역은 ps를 많이 구매햇다.\n"
      ]
    },
    {
      "cell_type": "code",
      "metadata": {
        "id": "AuX9Z5xq9JYm"
      },
      "source": [
        "#각 지역의 플랫폼 판매량 데이터프레임\n",
        "platform = df[['Platform','NA_Sales', 'EU_Sales', 'JP_Sales', 'Other_Sales']]\n",
        "platform.columns =['플랫폼','북미지역 출고량','유렵지역 출고량','일본지역 출고량','다른지역 출고량']\n",
        "platform_group = platform.groupby(['플랫폼']).sum()\n",
        "platform_df = platform_group.reset_index()\n",
        "#확인\n",
        "platform_df\n",
        "platform_graph = pd.melt(platform_df, id_vars=['플랫폼'], value_vars=game_df.columns[1:],\n",
        "                      var_name='판매지역', value_name='출고량')\n",
        "#그래프 데이터프레임 값확인\n",
        "platform_graph.head()\n",
        "plt.figure(figsize=(16, 15))\n",
        "sns.barplot(data=platform_graph, x='플랫폼', y='출고량', hue='판매지역')\n",
        "plt.title('지역별 플랫폼 선호도', loc='center', fontsize=20)\n",
        "plt.legend(fontsize=20)\n",
        "plt.xticks(fontsize=12)\n",
        "plt.yticks(fontsize=20)\n",
        "plt.xlabel('플랫폼', fontsize=20)\n",
        "plt.ylabel('출고량', fontsize=20)\n",
        "plt.show()"
      ],
      "execution_count": null,
      "outputs": []
    },
    {
      "cell_type": "markdown",
      "metadata": {
        "id": "sE00iuiMB3hQ"
      },
      "source": [
        "# 플랫폼 top5 출고량 확인하기\n",
        "## 전지역적으로 플스 플랫폼이 가장 많이 출고되었다."
      ]
    },
    {
      "cell_type": "code",
      "metadata": {
        "id": "2iL2HEJNB3Gg"
      },
      "source": [
        "# 국가별 판매량 TOP5\n",
        "def top5_platform(df, sales_col):\n",
        "    new_df = platform_df.loc[:, ['플랫폼', sales_col]].sort_values(by=sales_col, ascending=False).reset_index(drop=True).head(5)\n",
        "    new_df.columns = ['플랫폼', '출고량']\n",
        "    return new_df\n",
        "# Top5 데이터 저장\n",
        "na_platform_top5 = top5_platform(platform_df, '북미지역 출고량')\n",
        "eu_platform_top5 = top5_platform(platform_df, '유렵지역 출고량')\n",
        "jp_platform_top5 = top5_platform(platform_df, '일본지역 출고량')\n",
        "other_platform_top5 = top5_platform(platform_df, '다른지역 출고량')\n",
        "#데이터 리스트에 담기\n",
        "data_list = [na_platform_top5,eu_platform_top5,jp_platform_top5,other_platform_top5]\n",
        "columns_list = platform_df.columns[1:]\n",
        "#그래프 그리기\n",
        "fig, axs = plt.subplots(figsize=(35, 10), nrows=1, ncols=4)\n",
        "for col, i, data in zip(columns_list, range(len(columns_list)), data_list):\n",
        "    axs[i].set_title(col + ' ' + 'top5', fontsize=24)\n",
        "    sns.barplot(x='플랫폼', y='출고량', data=data, ax=axs[i])\n",
        "    axs[i].tick_params(axis='both',labelsize=16)\n",
        "    axs[i].set_xlabel('플랫폼', fontsize=16)\n",
        "    axs[i].set_ylabel('출고량', fontsize=16)\n",
        "plt.show()\n",
        "import matplotlib.pyplot as plt"
      ],
      "execution_count": null,
      "outputs": []
    }
  ]
}