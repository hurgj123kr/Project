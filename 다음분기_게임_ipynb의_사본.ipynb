{
  "nbformat": 4,
  "nbformat_minor": 0,
  "metadata": {
    "colab": {
      "name": "다음분기 게임.ipynb의 사본",
      "private_outputs": true,
      "provenance": [],
      "authorship_tag": "ABX9TyOzIk4Q7P7FrYNQmfRCzS9l",
      "include_colab_link": true
    },
    "kernelspec": {
      "name": "python3",
      "display_name": "Python 3"
    },
    "language_info": {
      "name": "python"
    }
  },
  "cells": [
    {
      "cell_type": "markdown",
      "metadata": {
        "id": "view-in-github",
        "colab_type": "text"
      },
      "source": [
        "<a href=\"https://colab.research.google.com/github/hurgj123kr/Project/blob/main/%EB%8B%A4%EC%9D%8C%EB%B6%84%EA%B8%B0_%EA%B2%8C%EC%9E%84_ipynb%EC%9D%98_%EC%82%AC%EB%B3%B8.ipynb\" target=\"_parent\"><img src=\"https://colab.research.google.com/assets/colab-badge.svg\" alt=\"Open In Colab\"/></a>"
      ]
    },
    {
      "cell_type": "markdown",
      "metadata": {
        "id": "WDY9fbihdoF2"
      },
      "source": [
        "#  다음분기의 게임 데이터셋을 불러옵니다.\n",
        "### 1)결측치가 있다면 제거해주고\n",
        "### 2)연도별로 정렬해줍니다. "
      ]
    },
    {
      "cell_type": "code",
      "metadata": {
        "id": "gQwvi8cEoDJV"
      },
      "source": [
        "import pandas as pd\n",
        "import numpy as np\n",
        "url ='https://ds-lecture-data.s3.ap-northeast-2.amazonaws.com/datasets/vgames2.csv'\n",
        "game_df = pd.read_csv(url,thousands=',')\n",
        "#데이터 확인\n",
        "game_df.columns\n",
        "game_df.shape\n",
        "#데이터에 이상이없는지 확인합니다\n",
        "game_df.isnull().sum()\n",
        "##데이터에 문제가있으므로 제거해줍니다.\n",
        "game_df.dropna(inplace=True)\n",
        "game_df.isnull().sum()\n",
        "game_df\n",
        "#이제 연도별로 정렬해줍니다.\n",
        "game_df.sort_values(by=['Year'], axis=0,inplace=True)\n",
        "game_df.drop(['Unnamed: 0'], axis=1,inplace=True) \n",
        "game_df"
      ],
      "execution_count": null,
      "outputs": []
    },
    {
      "cell_type": "markdown",
      "metadata": {
        "id": "eTFSWPpXeROm"
      },
      "source": [
        "# 이제 불러온 데이터를 통해서 나라에따라 장르의 차이 구하기      \n",
        "#각 나라별 출고와 장르column을 불러옵니다."
      ]
    },
    {
      "cell_type": "code",
      "metadata": {
        "id": "ag4dl_WDejjj"
      },
      "source": [
        "genre = game_df['Genre']\n",
        "na_sales = game_df['NA_Sales']\n",
        "eu_sales = game_df['EU_Sales']\n",
        "jp_sales = game_df['JP_Sales']\n",
        "other_sales = game_df['Other_Sales']\n",
        "country = pd.concat([genre,na_sales,eu_sales,jp_sales,other_sales],axis=1)\n",
        "country"
      ],
      "execution_count": null,
      "outputs": []
    },
    {
      "cell_type": "markdown",
      "metadata": {
        "id": "X5DiRIwrgQ_j"
      },
      "source": [
        "# 숫자 데이터들을 표준화시켜줘서 알아보기 쉽게 나타내야합니다."
      ]
    },
    {
      "cell_type": "code",
      "metadata": {
        "id": "Fx7tLeR4iHiB"
      },
      "source": [
        ""
      ],
      "execution_count": null,
      "outputs": []
    }
  ]
}