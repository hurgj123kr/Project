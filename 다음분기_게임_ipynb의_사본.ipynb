{
  "nbformat": 4,
  "nbformat_minor": 0,
  "metadata": {
    "colab": {
      "name": "다음분기 게임.ipynb의 사본",
      "private_outputs": true,
      "provenance": [],
      "collapsed_sections": [],
      "authorship_tag": "ABX9TyNWAywviAJFjXRB4Evkt5Xu",
      "include_colab_link": true
    },
    "kernelspec": {
      "name": "python3",
      "display_name": "Python 3"
    },
    "language_info": {
      "name": "python"
    }
  },
  "cells": [
    {
      "cell_type": "markdown",
      "metadata": {
        "id": "view-in-github",
        "colab_type": "text"
      },
      "source": [
        "<a href=\"https://colab.research.google.com/github/hurgj123kr/Project/blob/main/%EB%8B%A4%EC%9D%8C%EB%B6%84%EA%B8%B0_%EA%B2%8C%EC%9E%84_ipynb%EC%9D%98_%EC%82%AC%EB%B3%B8.ipynb\" target=\"_parent\"><img src=\"https://colab.research.google.com/assets/colab-badge.svg\" alt=\"Open In Colab\"/></a>"
      ]
    },
    {
      "cell_type": "markdown",
      "metadata": {
        "id": "WDY9fbihdoF2"
      },
      "source": [
        "#  다음분기의 게임 데이터셋을 불러옵니다.\n",
        "### 1)결측치가 있다면 제거해주고\n",
        "### 2)연도별로 정렬해줍니다.\n",
        "### 3)각 지역별 출고값열들 특정 문자 제거후 타입변경\n",
        "#### 4)이상한 연도들 원래 연도값으로 변경해주기"
      ]
    },
    {
      "cell_type": "code",
      "metadata": {
        "id": "gQwvi8cEoDJV"
      },
      "source": [
        "import pandas as pd\n",
        "import numpy as np\n",
        "#!sudo apt-get install -y fonts-nanum\n",
        "#!sudo fc-cache -fv\n",
        "#!rm ~/.cache/matplotlib -rf\n",
        "import matplotlib.pyplot as plt\n",
        "plt.rc('font', family='NanumBarunGothic')\n",
        "plt.rc('axes', unicode_minus=False)\n",
        "url ='https://ds-lecture-data.s3.ap-northeast-2.amazonaws.com/datasets/vgames2.csv'\n",
        "df = pd.read_csv(url,thousands=',')\n",
        "#데이터 확인\n",
        "df.columns\n",
        "df.shape\n",
        "#데이터에 이상이없는지 확인합니다\n",
        "df.isnull().sum()\n",
        "##데이터에 문제가있으므로 제거해줍니다.\n",
        "df.dropna(inplace=True)\n",
        "df.isnull().sum()\n",
        "#이제 연도별로 정렬해줍니다.\n",
        "df.sort_values(by=['Year'], axis=0,inplace=True)\n",
        "df.drop(['Unnamed: 0'], axis=1,inplace=True)\n",
        "#df = df.replace({'K':'', 'M':''}, regex=True)\n",
        "#df = df.astype({'NA_Sales':'float','EU_Sales':'float','JP_Sales':'float',\n",
        "#                          'Other_Sales':'float'})\n",
        "df.dtypes\n",
        "df"
      ],
      "execution_count": null,
      "outputs": []
    },
    {
      "cell_type": "code",
      "metadata": {
        "id": "s8dW8U-Tj5kf"
      },
      "source": [
        "#연도 이상치 고치기\n",
        "year = df['Year'].unique()\n",
        "temp = []\n",
        "for i in year:\n",
        "    if i <= 1900:\n",
        "        print(i)\n",
        "        temp.append(i)\n",
        "\n",
        "df.loc[(df['Year'].values <= 80),'Year' ] += 2000\n",
        "df.loc[((df['Year'].values >=80) & (df['Year'].values <= 100)),'Year'] += 1900\n",
        "df['Year'].value_counts()\n",
        "df"
      ],
      "execution_count": null,
      "outputs": []
    },
    {
      "cell_type": "code",
      "metadata": {
        "id": "-IF59yTGj5L9"
      },
      "source": [
        "df.NA_Sales.value_counts()"
      ],
      "execution_count": null,
      "outputs": []
    },
    {
      "cell_type": "markdown",
      "metadata": {
        "id": "eTFSWPpXeROm"
      },
      "source": [
        "# 이제 불러온 데이터를 통해서 지역에따라 장르의 차이를 나타낸 표그리기\n"
      ]
    },
    {
      "cell_type": "markdown",
      "metadata": {
        "id": "fErx6zd6cu0T"
      },
      "source": [
        "**밑의 막대그래프에따르면 북미지역은 액션게임 출고량이높고,유럽지역도 액션게임출고량이높습니다.**\n",
        "\n",
        "\n",
        "**일본지역 Role-Playing게임이 출고량이높네요, 기타지역은 액션게임의 출고량이 높습니다.**\n",
        "\n",
        "\n",
        "**그러므로 북미,유렵,기타지역은 액션게임을 선호합니다.**\n",
        "\n",
        "\n",
        "**일본만 Role-playing게임을 선호합니다**"
      ]
    },
    {
      "cell_type": "code",
      "metadata": {
        "id": "ag4dl_WDejjj"
      },
      "source": [
        "import seaborn as sns\n",
        "import matplotlib.pyplot as plt\n",
        "#각 장르별 나라들의 출고값을 합산한것입니다.\n",
        "game_genre = df[['Genre','NA_Sales', 'EU_Sales', 'JP_Sales', 'Other_Sales']]\n",
        "game_genre.columns =['장르','북미지역 출고량','유렵지역 출고량','일본지역 출고량','기타지역 출고량']\n",
        "genre_group = game_genre.groupby(['장르']).sum()\n",
        "game_df = genre_group.reset_index()\n",
        "#확인\n",
        "game_df\n",
        "game_graph = pd.melt(game_df, id_vars=['장르'], value_vars=game_df.columns[1:],\n",
        "                      var_name='판매지역', value_name='출고량')\n",
        "game_graph.head()\n",
        "plt.figure(figsize=(14, 13))\n",
        "sns.barplot(data=game_graph, x='장르', y='출고량', hue='판매지역')\n",
        "plt.title('국가별 장르 선호도', loc='center', fontsize=24)\n",
        "plt.legend(fontsize=15)\n",
        "plt.show()"
      ],
      "execution_count": null,
      "outputs": []
    },
    {
      "cell_type": "markdown",
      "metadata": {
        "id": "X5DiRIwrgQ_j"
      },
      "source": [
        "\n",
        "\n",
        "\n"
      ]
    },
    {
      "cell_type": "code",
      "metadata": {
        "id": "Fx7tLeR4iHiB"
      },
      "source": [
        "\n",
        "\n"
      ],
      "execution_count": null,
      "outputs": []
    },
    {
      "cell_type": "markdown",
      "metadata": {
        "id": "v9Cun1eEml_o"
      },
      "source": [
        ""
      ]
    }
  ]
}