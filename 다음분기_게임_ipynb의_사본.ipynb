{
  "nbformat": 4,
  "nbformat_minor": 0,
  "metadata": {
    "colab": {
      "name": "다음분기 게임.ipynb의 사본",
      "private_outputs": true,
      "provenance": [],
      "authorship_tag": "ABX9TyPkgRNmY/4FRrUTSGIsopy9",
      "include_colab_link": true
    },
    "kernelspec": {
      "name": "python3",
      "display_name": "Python 3"
    },
    "language_info": {
      "name": "python"
    }
  },
  "cells": [
    {
      "cell_type": "markdown",
      "metadata": {
        "id": "view-in-github",
        "colab_type": "text"
      },
      "source": [
        "<a href=\"https://colab.research.google.com/github/hurgj123kr/Project/blob/main/%EB%8B%A4%EC%9D%8C%EB%B6%84%EA%B8%B0_%EA%B2%8C%EC%9E%84_ipynb%EC%9D%98_%EC%82%AC%EB%B3%B8.ipynb\" target=\"_parent\"><img src=\"https://colab.research.google.com/assets/colab-badge.svg\" alt=\"Open In Colab\"/></a>"
      ]
    },
    {
      "cell_type": "markdown",
      "metadata": {
        "id": "WDY9fbihdoF2"
      },
      "source": [
        "#  다음분기의 게임 데이터셋을 불러옵니다.\n",
        "### 1)결측치가 있다면 제거해주고\n",
        "### 2)연도별로 정렬해줍니다.\n",
        "### 3)각 지역별 출고값열들 특정 문자 제거후 타입변경"
      ]
    },
    {
      "cell_type": "code",
      "metadata": {
        "id": "gQwvi8cEoDJV"
      },
      "source": [
        "import pandas as pd\n",
        "import numpy as np\n",
        "url ='https://ds-lecture-data.s3.ap-northeast-2.amazonaws.com/datasets/vgames2.csv'\n",
        "game_df = pd.read_csv(url,thousands=',')\n",
        "#데이터 확인\n",
        "game_df.columns\n",
        "game_df.shape\n",
        "#데이터에 이상이없는지 확인합니다\n",
        "game_df.isnull().sum()\n",
        "##데이터에 문제가있으므로 제거해줍니다.\n",
        "game_df.dropna(inplace=True)\n",
        "game_df.isnull().sum()\n",
        "#이제 연도별로 정렬해줍니다.\n",
        "game_df.sort_values(by=['Year'], axis=0,inplace=True)\n",
        "game_df.drop(['Unnamed: 0'], axis=1,inplace=True)\n",
        "game_df = game_df.replace({'K':'', 'M':''}, regex=True)\n",
        "game_df = game_df.astype({'NA_Sales':'float','EU_Sales':'float','JP_Sales':'float',\n",
        "                          'Other_Sales':'float'})\n",
        "game_df.dtypes\n",
        "game_df"
      ],
      "execution_count": null,
      "outputs": []
    },
    {
      "cell_type": "markdown",
      "metadata": {
        "id": "eTFSWPpXeROm"
      },
      "source": [
        "# 이제 불러온 데이터를 통해서 나라에따라 장르의 차이 구하기      \n",
        "#각 나라별 출고와 장르column을 불러옵니다."
      ]
    },
    {
      "cell_type": "code",
      "metadata": {
        "id": "ag4dl_WDejjj"
      },
      "source": [
        "genre = game_df['Genre']\n",
        "na_sales = game_df['NA_Sales']\n",
        "eu_sales = game_df['EU_Sales']\n",
        "jp_sales = game_df['JP_Sales']\n",
        "other_sales = game_df['Other_Sales']\n",
        "country = pd.concat([game_df['Genre'],na_sales,eu_sales,jp_sales,other_sales],axis=1)\n",
        "country1 =country.loc[:,['NA_Sales','EU_Sales','JP_Sales','Other_Sales']]"
      ],
      "execution_count": null,
      "outputs": []
    },
    {
      "cell_type": "markdown",
      "metadata": {
        "id": "X5DiRIwrgQ_j"
      },
      "source": [
        "# 각나라는 출고량에따른 장르 선호도\n"
      ]
    },
    {
      "cell_type": "code",
      "metadata": {
        "id": "Fx7tLeR4iHiB"
      },
      "source": [
        "import matplotlib.pyplot as plt\n",
        "import seaborn as sns\n",
        "from sklearn.decomposition import PCA\n",
        "scaler = StandardScaler()\n",
        "country2 = scaler.fit_transform(country1)\n",
        "pca = PCA(n_components=4)\n",
        "country3 = pd.DataFrame(pca.fit_transform(country2), columns=['PC1', 'PC2','PC3','PC4'])\n",
        "country3.head()\n",
        "sns.scatterplot(data=country3, x='PC3', y='PC4', hue=game_df['Genre'])\n",
        "\n"
      ],
      "execution_count": null,
      "outputs": []
    },
    {
      "cell_type": "markdown",
      "metadata": {
        "id": "v9Cun1eEml_o"
      },
      "source": [
        ""
      ]
    }
  ]
}